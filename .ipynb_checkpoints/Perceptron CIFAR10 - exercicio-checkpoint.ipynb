{
 "cells": [
  {
   "cell_type": "markdown",
   "metadata": {},
   "source": [
    "# Objetivos deste trabalho:\n",
    "- Se familiarizar com o ambiente Notebook e com Python\n",
    "- Implementar um perceptron simples, treiná-lo no conjunto de TREINO do CIFAR-10 e avaliá-lo no conjunto de TESTE (alvo: distinguir fotos de animais de meios de transporte)\n",
    "- Utilizar a função sigmóide e verificar seu efeito no treinamento e na avaliação\n",
    "- Modificar a metodologia para classificar cada classe individualmente (i.e. treinar 10 perceptrons, um para cada classe). Considerar: dado um exemplo, que passará por cada perceptron, como decidir qual é a classe dele?"
   ]
  },
  {
   "cell_type": "code",
   "execution_count": 1,
   "metadata": {},
   "outputs": [
    {
     "data": {
      "text/plain": [
       "{'divide': 'warn', 'over': 'warn', 'under': 'ignore', 'invalid': 'warn'}"
      ]
     },
     "execution_count": 1,
     "metadata": {},
     "output_type": "execute_result"
    }
   ],
   "source": [
    "%matplotlib inline\n",
    "\n",
    "import torch\n",
    "import torchvision\n",
    "import numpy as np\n",
    "\n",
    "np.seterr(all='raise')"
   ]
  },
  {
   "cell_type": "code",
   "execution_count": 2,
   "metadata": {},
   "outputs": [
    {
     "name": "stdout",
     "output_type": "stream",
     "text": [
      "Files already downloaded and verified\n",
      "Files already downloaded and verified\n"
     ]
    }
   ],
   "source": [
    "# Carregar os datasets\n",
    "\n",
    "dataset_train = torchvision.datasets.CIFAR10(root='./data', train=True,\n",
    "                                        download=True)\n",
    "\n",
    "dataset_test = torchvision.datasets.CIFAR10(root='./data', train=False,\n",
    "                                        download=True)"
   ]
  },
  {
   "cell_type": "code",
   "execution_count": 3,
   "metadata": {},
   "outputs": [],
   "source": [
    "classes = ('plane', 'car', 'bird', 'cat',\n",
    "           'deer', 'dog', 'frog', 'horse', 'ship', 'truck')"
   ]
  },
  {
   "cell_type": "code",
   "execution_count": 4,
   "metadata": {},
   "outputs": [
    {
     "name": "stdout",
     "output_type": "stream",
     "text": [
      "50000 10000\n"
     ]
    }
   ],
   "source": [
    "print(len(dataset_train), len(dataset_test))"
   ]
  },
  {
   "cell_type": "code",
   "execution_count": 5,
   "metadata": {},
   "outputs": [],
   "source": [
    "# Converter para tons de cinza\n",
    "\n",
    "# Treino\n",
    "grayscale_dataset_train = []\n",
    "for img,label in dataset_train:\n",
    "    category = classes[label]\n",
    "    gray_npimg = np.array(img.convert('L'))\n",
    "    grayscale_dataset_train.append((gray_npimg,category))\n",
    "    \n",
    "# Teste\n",
    "grayscale_dataset_test = []\n",
    "for img,label in dataset_test:\n",
    "    category = classes[label]\n",
    "    gray_npimg = np.array(img.convert('L'))\n",
    "    grayscale_dataset_test.append((gray_npimg,category))    "
   ]
  },
  {
   "cell_type": "code",
   "execution_count": 6,
   "metadata": {},
   "outputs": [
    {
     "data": {
      "image/png": "[encoded data removed]",
      "text/plain": [
       "<Figure size 432x288 with 1 Axes>"
      ]
     },
     "metadata": {
      "needs_background": "light"
     },
     "output_type": "display_data"
    }
   ],
   "source": [
    "# Mostrar uma imagem\n",
    "\n",
    "import matplotlib.pyplot as plt\n",
    "import numpy as np\n",
    "\n",
    "image_index = 1\n",
    "label = grayscale_dataset_train[image_index][1]\n",
    "npimg = grayscale_dataset_train[image_index][0]\n",
    "\n",
    "plt.imshow(npimg, cmap='gray')\n",
    "plt.title(label)\n",
    "plt.show()"
   ]
  },
  {
   "cell_type": "code",
   "execution_count": 7,
   "metadata": {},
   "outputs": [],
   "source": [
    "# Converter para vetores 1D\n",
    "\n",
    "# Para pensar: por que a divisão por 255 no código abaixo?\n",
    "\n",
    "linear_dataset_train = []\n",
    "target_labels = ('plane', 'car', 'ship', 'truck')\n",
    "for img,category in grayscale_dataset_train:\n",
    "    linear_img = img.reshape(img.shape[0]*img.shape[1],1) / 255\n",
    "    if category in target_labels:\n",
    "        label = 1\n",
    "    else:\n",
    "        label = 0\n",
    "    linear_dataset_train.append((linear_img,label))\n",
    "    \n",
    "linear_dataset_test = []\n",
    "target_labels = ('plane', 'car', 'ship', 'truck')\n",
    "for img,category in grayscale_dataset_test:\n",
    "    linear_img = img.reshape(img.shape[0]*img.shape[1],1) / 255\n",
    "    if category in target_labels:\n",
    "        label = 1\n",
    "    else:\n",
    "        label = 0\n",
    "    linear_dataset_test.append((linear_img,label))    "
   ]
  },
  {
   "cell_type": "code",
   "execution_count": 8,
   "metadata": {},
   "outputs": [
    {
     "name": "stdout",
     "output_type": "stream",
     "text": [
      "1024\n"
     ]
    }
   ],
   "source": [
    "size = len(linear_dataset_train[0][0])\n",
    "print(size)"
   ]
  },
  {
   "cell_type": "markdown",
   "metadata": {},
   "source": [
    "# Definindo o perceptron"
   ]
  },
  {
   "cell_type": "code",
   "execution_count": 9,
   "metadata": {},
   "outputs": [],
   "source": [
    "def sigmoid(x):\n",
    "    return 1/(1+np.exp(-x))\n",
    "\n",
    "def perceptron(inputs, weights):\n",
    "    o = np.dot(inputs, weights)\n",
    "    \n",
    "    return sigmoid(o)"
   ]
  },
  {
   "cell_type": "markdown",
   "metadata": {},
   "source": [
    "# Treinando o perceptron"
   ]
  },
  {
   "cell_type": "code",
   "execution_count": 10,
   "metadata": {},
   "outputs": [],
   "source": [
    "def add_bias(dataset):\n",
    "    return list(map(lambda x: (np.append(x[0], 1), x[1]), dataset))\n",
    "\n",
    "def print_metrics(metrics):\n",
    "    acc, sens, spec, f1 = list(map(lambda metric: str('%.2f' % (round(metric, 4)*100)) + \"%\", metrics))\n",
    "    return \" \\t\\tacc: \" + acc + \"\\t\\tsens: \" + sens + \"\\t\\tspec: \" + spec + \"\\t\\tf1: \" + f1\n",
    "    \n",
    "def evaluate(weights,dataset,category=False,training=False):\n",
    "    confusion_matrix = np.zeros((2,2)) \n",
    "    \n",
    "    for img, label in train_dataset:\n",
    "        y = perceptron(img, weights)\n",
    "        \n",
    "        if category:\n",
    "            label = 1 if label == category else 0\n",
    "        \n",
    "        if training:\n",
    "            loss = label - y\n",
    "            delta = loss * neta * img * y * (1 - y)\n",
    "            weights = weights + delta\n",
    "        \n",
    "        y = round(y)\n",
    "        confusion_matrix[int(label)][int(y)] += 1\n",
    "   \n",
    "    (tn, fn), (fp, tp) = confusion_matrix\n",
    "    \n",
    "    accuracy = (tn + tp)/(tn + tp + fn + fp)\n",
    "    sensitivity = tp/(tp + fn)\n",
    "    specificity = tn/(tn + fp)\n",
    "    f1 = (2 * tp)/(2 * tp + fp + fn)\n",
    "    \n",
    "    return [accuracy, sensitivity, specificity, f1], weights"
   ]
  },
  {
   "cell_type": "code",
   "execution_count": 11,
   "metadata": {},
   "outputs": [
    {
     "name": "stdout",
     "output_type": "stream",
     "text": [
      "0 \t\tacc: 68.22%\t\tsens: 62.31%\t\tspec: 71.19%\t\tf1: 56.71%\n",
      "1 \t\tacc: 70.40%\t\tsens: 65.60%\t\tspec: 72.80%\t\tf1: 59.64%\n",
      "2 \t\tacc: 70.96%\t\tsens: 66.65%\t\tspec: 73.08%\t\tf1: 60.18%\n",
      "3 \t\tacc: 71.37%\t\tsens: 67.49%\t\tspec: 73.23%\t\tf1: 60.50%\n",
      "4 \t\tacc: 71.51%\t\tsens: 67.84%\t\tspec: 73.25%\t\tf1: 60.56%\n",
      "5 \t\tacc: 71.83%\t\tsens: 68.49%\t\tspec: 73.41%\t\tf1: 60.88%\n",
      "6 \t\tacc: 71.95%\t\tsens: 68.76%\t\tspec: 73.45%\t\tf1: 60.97%\n",
      "7 \t\tacc: 72.12%\t\tsens: 69.13%\t\tspec: 73.52%\t\tf1: 61.12%\n",
      "8 \t\tacc: 72.23%\t\tsens: 69.37%\t\tspec: 73.54%\t\tf1: 61.19%\n",
      "9 \t\tacc: 72.25%\t\tsens: 69.40%\t\tspec: 73.57%\t\tf1: 61.23%\n",
      "10 \t\tacc: 72.27%\t\tsens: 69.42%\t\tspec: 73.59%\t\tf1: 61.28%\n",
      "11 \t\tacc: 72.27%\t\tsens: 69.48%\t\tspec: 73.54%\t\tf1: 61.20%\n",
      "12 \t\tacc: 72.49%\t\tsens: 69.79%\t\tspec: 73.74%\t\tf1: 61.56%\n",
      "13 \t\tacc: 72.35%\t\tsens: 69.57%\t\tspec: 73.63%\t\tf1: 61.35%\n",
      "14 \t\tacc: 72.47%\t\tsens: 69.84%\t\tspec: 73.68%\t\tf1: 61.46%\n",
      "15 \t\tacc: 72.63%\t\tsens: 69.98%\t\tspec: 73.85%\t\tf1: 61.77%\n",
      "16 \t\tacc: 72.56%\t\tsens: 69.89%\t\tspec: 73.79%\t\tf1: 61.65%\n",
      "17 \t\tacc: 72.60%\t\tsens: 69.98%\t\tspec: 73.80%\t\tf1: 61.69%\n",
      "18 \t\tacc: 72.73%\t\tsens: 70.16%\t\tspec: 73.91%\t\tf1: 61.89%\n",
      "19 \t\tacc: 72.55%\t\tsens: 69.80%\t\tspec: 73.82%\t\tf1: 61.70%\n",
      "20 \t\tacc: 72.48%\t\tsens: 69.81%\t\tspec: 73.71%\t\tf1: 61.51%\n",
      "21 \t\tacc: 72.64%\t\tsens: 70.18%\t\tspec: 73.77%\t\tf1: 61.65%\n",
      "22 \t\tacc: 72.70%\t\tsens: 70.19%\t\tspec: 73.85%\t\tf1: 61.79%\n",
      "23 \t\tacc: 72.72%\t\tsens: 70.23%\t\tspec: 73.87%\t\tf1: 61.83%\n",
      "24 \t\tacc: 72.88%\t\tsens: 70.52%\t\tspec: 73.96%\t\tf1: 62.01%\n",
      "25 \t\tacc: 72.67%\t\tsens: 70.11%\t\tspec: 73.84%\t\tf1: 61.76%\n",
      "26 \t\tacc: 72.56%\t\tsens: 70.01%\t\tspec: 73.73%\t\tf1: 61.57%\n",
      "27 \t\tacc: 72.85%\t\tsens: 70.42%\t\tspec: 73.97%\t\tf1: 62.01%\n",
      "28 \t\tacc: 72.73%\t\tsens: 70.25%\t\tspec: 73.87%\t\tf1: 61.83%\n",
      "29 \t\tacc: 72.97%\t\tsens: 70.60%\t\tspec: 74.05%\t\tf1: 62.18%\n",
      "30 \t\tacc: 72.76%\t\tsens: 70.26%\t\tspec: 73.91%\t\tf1: 61.91%\n",
      "31 \t\tacc: 72.89%\t\tsens: 70.51%\t\tspec: 73.98%\t\tf1: 62.04%\n",
      "32 \t\tacc: 72.81%\t\tsens: 70.32%\t\tspec: 73.96%\t\tf1: 61.99%\n",
      "33 \t\tacc: 72.77%\t\tsens: 70.30%\t\tspec: 73.90%\t\tf1: 61.89%\n",
      "34 \t\tacc: 72.63%\t\tsens: 70.09%\t\tspec: 73.79%\t\tf1: 61.68%\n",
      "35 \t\tacc: 73.00%\t\tsens: 70.67%\t\tspec: 74.07%\t\tf1: 62.21%\n",
      "36 \t\tacc: 72.98%\t\tsens: 70.59%\t\tspec: 74.08%\t\tf1: 62.22%\n",
      "37 \t\tacc: 72.98%\t\tsens: 70.51%\t\tspec: 74.12%\t\tf1: 62.27%\n",
      "38 \t\tacc: 72.93%\t\tsens: 70.49%\t\tspec: 74.05%\t\tf1: 62.16%\n",
      "39 \t\tacc: 72.94%\t\tsens: 70.62%\t\tspec: 74.00%\t\tf1: 62.09%\n",
      "40 \t\tacc: 73.07%\t\tsens: 70.72%\t\tspec: 74.15%\t\tf1: 62.35%\n",
      "41 \t\tacc: 72.98%\t\tsens: 70.64%\t\tspec: 74.06%\t\tf1: 62.19%\n",
      "42 \t\tacc: 72.72%\t\tsens: 70.22%\t\tspec: 73.87%\t\tf1: 61.82%\n",
      "43 \t\tacc: 73.10%\t\tsens: 70.89%\t\tspec: 74.11%\t\tf1: 62.31%\n",
      "44 \t\tacc: 72.97%\t\tsens: 70.70%\t\tspec: 74.00%\t\tf1: 62.10%\n",
      "45 \t\tacc: 73.00%\t\tsens: 70.63%\t\tspec: 74.08%\t\tf1: 62.23%\n",
      "46 \t\tacc: 73.14%\t\tsens: 70.93%\t\tspec: 74.14%\t\tf1: 62.36%\n",
      "47 \t\tacc: 73.03%\t\tsens: 70.66%\t\tspec: 74.12%\t\tf1: 62.30%\n",
      "48 \t\tacc: 72.93%\t\tsens: 70.53%\t\tspec: 74.03%\t\tf1: 62.13%\n",
      "49 \t\tacc: 72.92%\t\tsens: 70.47%\t\tspec: 74.05%\t\tf1: 62.16%\n",
      "50 \t\tacc: 72.86%\t\tsens: 70.46%\t\tspec: 73.96%\t\tf1: 62.01%\n",
      "51 \t\tacc: 72.96%\t\tsens: 70.65%\t\tspec: 74.02%\t\tf1: 62.13%\n",
      "52 \t\tacc: 73.09%\t\tsens: 70.77%\t\tspec: 74.16%\t\tf1: 62.37%\n",
      "53 \t\tacc: 73.19%\t\tsens: 70.97%\t\tspec: 74.21%\t\tf1: 62.49%\n",
      "54 \t\tacc: 73.10%\t\tsens: 70.72%\t\tspec: 74.20%\t\tf1: 62.44%\n",
      "55 \t\tacc: 73.11%\t\tsens: 70.78%\t\tspec: 74.19%\t\tf1: 62.43%\n",
      "56 \t\tacc: 73.04%\t\tsens: 70.66%\t\tspec: 74.13%\t\tf1: 62.32%\n",
      "57 \t\tacc: 73.15%\t\tsens: 70.91%\t\tspec: 74.18%\t\tf1: 62.43%\n",
      "58 \t\tacc: 73.00%\t\tsens: 70.82%\t\tspec: 73.99%\t\tf1: 62.09%\n",
      "59 \t\tacc: 73.06%\t\tsens: 70.80%\t\tspec: 74.10%\t\tf1: 62.27%\n",
      "60 \t\tacc: 73.07%\t\tsens: 70.87%\t\tspec: 74.08%\t\tf1: 62.25%\n",
      "61 \t\tacc: 73.17%\t\tsens: 70.98%\t\tspec: 74.18%\t\tf1: 62.43%\n",
      "62 \t\tacc: 73.01%\t\tsens: 70.61%\t\tspec: 74.11%\t\tf1: 62.28%\n",
      "63 \t\tacc: 73.11%\t\tsens: 70.73%\t\tspec: 74.22%\t\tf1: 62.47%\n",
      "64 \t\tacc: 73.10%\t\tsens: 70.81%\t\tspec: 74.14%\t\tf1: 62.35%\n",
      "65 \t\tacc: 73.19%\t\tsens: 71.00%\t\tspec: 74.20%\t\tf1: 62.46%\n",
      "66 \t\tacc: 73.09%\t\tsens: 70.78%\t\tspec: 74.15%\t\tf1: 62.36%\n",
      "67 \t\tacc: 73.09%\t\tsens: 70.73%\t\tspec: 74.18%\t\tf1: 62.40%\n",
      "68 \t\tacc: 72.98%\t\tsens: 70.70%\t\tspec: 74.03%\t\tf1: 62.14%\n",
      "69 \t\tacc: 73.12%\t\tsens: 70.87%\t\tspec: 74.15%\t\tf1: 62.36%\n",
      "70 \t\tacc: 73.13%\t\tsens: 70.94%\t\tspec: 74.14%\t\tf1: 62.35%\n",
      "71 \t\tacc: 73.00%\t\tsens: 70.82%\t\tspec: 73.99%\t\tf1: 62.09%\n",
      "72 \t\tacc: 73.16%\t\tsens: 71.02%\t\tspec: 74.14%\t\tf1: 62.36%\n",
      "73 \t\tacc: 73.15%\t\tsens: 70.97%\t\tspec: 74.15%\t\tf1: 62.38%\n",
      "74 \t\tacc: 73.18%\t\tsens: 70.95%\t\tspec: 74.20%\t\tf1: 62.46%\n",
      "75 \t\tacc: 73.03%\t\tsens: 70.73%\t\tspec: 74.09%\t\tf1: 62.25%\n",
      "76 \t\tacc: 73.25%\t\tsens: 71.13%\t\tspec: 74.23%\t\tf1: 62.52%\n",
      "77 \t\tacc: 73.08%\t\tsens: 70.76%\t\tspec: 74.15%\t\tf1: 62.36%\n",
      "78 \t\tacc: 73.18%\t\tsens: 70.99%\t\tspec: 74.18%\t\tf1: 62.43%\n",
      "79 \t\tacc: 73.10%\t\tsens: 70.81%\t\tspec: 74.16%\t\tf1: 62.37%\n",
      "80 \t\tacc: 73.11%\t\tsens: 70.92%\t\tspec: 74.10%\t\tf1: 62.29%\n",
      "81 \t\tacc: 73.03%\t\tsens: 70.69%\t\tspec: 74.10%\t\tf1: 62.27%\n",
      "82 \t\tacc: 73.23%\t\tsens: 71.01%\t\tspec: 74.24%\t\tf1: 62.54%\n",
      "83 \t\tacc: 72.94%\t\tsens: 70.66%\t\tspec: 73.98%\t\tf1: 62.06%\n",
      "84 \t\tacc: 73.41%\t\tsens: 71.37%\t\tspec: 74.35%\t\tf1: 62.75%\n",
      "85 \t\tacc: 73.27%\t\tsens: 71.09%\t\tspec: 74.28%\t\tf1: 62.60%\n",
      "86 \t\tacc: 73.16%\t\tsens: 70.97%\t\tspec: 74.16%\t\tf1: 62.39%\n",
      "87 \t\tacc: 73.14%\t\tsens: 71.00%\t\tspec: 74.12%\t\tf1: 62.32%\n",
      "88 \t\tacc: 73.23%\t\tsens: 71.09%\t\tspec: 74.22%\t\tf1: 62.50%\n",
      "89 \t\tacc: 73.12%\t\tsens: 70.87%\t\tspec: 74.16%\t\tf1: 62.38%\n",
      "90 \t\tacc: 73.13%\t\tsens: 70.82%\t\tspec: 74.20%\t\tf1: 62.44%\n",
      "91 \t\tacc: 73.23%\t\tsens: 70.96%\t\tspec: 74.27%\t\tf1: 62.58%\n",
      "92 \t\tacc: 73.16%\t\tsens: 70.89%\t\tspec: 74.20%\t\tf1: 62.45%\n",
      "93 \t\tacc: 73.25%\t\tsens: 71.10%\t\tspec: 74.24%\t\tf1: 62.54%\n",
      "94 \t\tacc: 73.07%\t\tsens: 70.79%\t\tspec: 74.11%\t\tf1: 62.30%\n",
      "95 \t\tacc: 73.12%\t\tsens: 70.91%\t\tspec: 74.13%\t\tf1: 62.33%\n",
      "96 \t\tacc: 73.18%\t\tsens: 70.93%\t\tspec: 74.22%\t\tf1: 62.49%\n",
      "97 \t\tacc: 73.19%\t\tsens: 70.87%\t\tspec: 74.26%\t\tf1: 62.56%\n",
      "98 \t\tacc: 73.23%\t\tsens: 71.04%\t\tspec: 74.24%\t\tf1: 62.53%\n",
      "99 \t\tacc: 73.19%\t\tsens: 70.97%\t\tspec: 74.21%\t\tf1: 62.48%\n"
     ]
    }
   ],
   "source": [
    "# Inicialização\n",
    "weights = (np.random.rand(1,size) - 0.5)[0]\n",
    "bias = (np.random.rand(1) - 0.25) \n",
    "weights = np.append(weights, bias) \n",
    "train_dataset = add_bias(linear_dataset_train)\n",
    "neta = 0.001\n",
    "    \n",
    "# Implemente o treino aqui (para separar as duas classes definidas)\n",
    "accuracies = []\n",
    "sensitivities = []\n",
    "specificities = []\n",
    "f1s = []\n",
    "for epoch in range(100):\n",
    "    np.random.shuffle(train_dataset)\n",
    "    metrics, weights = evaluate(weights, train_dataset, training=True)\n",
    "    \n",
    "    print(str(epoch) + print_metrics(metrics))\n",
    "    accuracies.append(metrics[0])\n",
    "    sensitivities.append(metrics[1])\n",
    "    specificities.append(metrics[2])\n",
    "    f1s.append(metrics[3])"
   ]
  },
  {
   "cell_type": "code",
   "execution_count": 12,
   "metadata": {},
   "outputs": [
    {
     "name": "stdout",
     "output_type": "stream",
     "text": [
      " \t\tacc: 73.40%\t\tsens: 68.51%\t\tspec: 76.18%\t\tf1: 65.10%\n"
     ]
    }
   ],
   "source": [
    "# Avalie o modelo treinado aqui\n",
    "# Como a acurácia no conjunto de teste se compara com a acurácia obtida no conjunto de treino?\n",
    "test_dataset = add_bias(linear_dataset_test)\n",
    "metrics, _ = evaluate(weights, test_dataset)\n",
    "\n",
    "print(print_metrics(metrics))\n",
    "\n",
    "# Durante o treinamento estocástico do perceptron, foram verificados os índices de acurácia, sensitividade,\n",
    "# especificidade e f1 para garantir a convergência para um erro mínimo. Buscou-se chegar a um modelo com alta\n",
    "# acurácia, sensitividade e especificidade balanceados que fosse bem generalizado (ou seja, acertasse também no conjunto\n",
    "# de teste e não apenas no de treino).\n",
    "\n",
    "# A re-mistura de entradas a cada época apresentou convergência mais rápida, porém menos estável, o que tornou o\n",
    "# resultado no conjunto de teste menos previsível também. A maior generalização e menor erro foram encontrados no\n",
    "# modelo com neta=0.001 e ajuste de pesos utilizando a derivada da sigmóide do produto escalar o.\n",
    "\n",
    "# A discretização das 10 classes diferentes em apenas 2 dificilmente deveria gerar um problema totalmente separável\n",
    "# linearmente, e isto deveria ser ainda mais acentuado ainda no conjunto de treinamento, portanto era\n",
    "# mais aceitável um erro maior durante o treinamento se resultasse em um erro menor na avaliação. Ao final, a acurácia de\n",
    "# aproximadamente 73,5% com também bons indicadores de sensitividade e especificidade foi o melhor resultado encontrado."
   ]
  },
  {
   "cell_type": "code",
   "execution_count": 13,
   "metadata": {},
   "outputs": [
    {
     "data": {
      "text/plain": [
       "[]"
      ]
     },
     "execution_count": 13,
     "metadata": {},
     "output_type": "execute_result"
    },
    {
     "data": {
      "image/png": "[encoded data removed]",
      "text/plain": [
       "<Figure size 432x288 with 4 Axes>"
      ]
     },
     "metadata": {
      "needs_background": "light"
     },
     "output_type": "display_data"
    }
   ],
   "source": [
    "# Caso queiram plotar alguma coisa\n",
    "\n",
    "import matplotlib.pyplot as plt\n",
    "f, axarr = plt.subplots(2, 2)\n",
    "axarr[0, 0].plot(accuracies)\n",
    "axarr[0, 0].set_title('Acurácia')\n",
    "axarr[0, 1].plot(sensitivities)\n",
    "axarr[0, 1].set_title('Sensitividade')\n",
    "axarr[1, 0].plot(specificities)\n",
    "axarr[1, 0].set_title('Especificidade')\n",
    "axarr[1, 1].plot(f1s)\n",
    "axarr[1, 1].set_title('F1')\n",
    "\n",
    "axarr[0, 0].set_xticklabels([])\n",
    "axarr[0, 1].set_xticklabels([])"
   ]
  },
  {
   "cell_type": "markdown",
   "metadata": {},
   "source": [
    "\n",
    "# Classificando classes individuais\n",
    "\n",
    "Implemente aqui a modificação do processo de avaliação e treinamento para poder classificar cada classe individualmente.\n",
    "\n",
    "- Ideia geral: treinar um perceptron por classe (exemplo positivo = exemplos da classe; exemplos negativos = exemplo de todas outras classes)\n",
    "- Dado um exemplo qualquer, como decidir qual perceptron está dando a classe correta?"
   ]
  },
  {
   "cell_type": "code",
   "execution_count": 14,
   "metadata": {},
   "outputs": [],
   "source": [
    "linear_dataset_train = []\n",
    "for img,category in grayscale_dataset_train:\n",
    "    linear_img = img.reshape(img.shape[0]*img.shape[1],1) / 255\n",
    "    label = (classes.index(category) + 1)/10\n",
    "    linear_dataset_train.append((linear_img,label))\n",
    "    \n",
    "linear_dataset_test = []\n",
    "for img,category in grayscale_dataset_test:\n",
    "    linear_img = img.reshape(img.shape[0]*img.shape[1],1) / 255\n",
    "    label = (classes.index(category) + 1)/10\n",
    "    linear_dataset_test.append((linear_img,label))\n",
    "    \n",
    "size = len(linear_dataset_train[0][0])"
   ]
  },
  {
   "cell_type": "markdown",
   "metadata": {},
   "source": [
    "# Treinamento"
   ]
  },
  {
   "cell_type": "code",
   "execution_count": 16,
   "metadata": {},
   "outputs": [
    {
     "name": "stdout",
     "output_type": "stream",
     "text": [
      "0\n",
      "plane \t\tacc: 89.66%\t\tsens: 13.56%\t\tspec: 90.02%\t\tf1: 1.22%\n",
      "car \t\tacc: 89.36%\t\tsens: 11.93%\t\tspec: 90.02%\t\tf1: 1.85%\n",
      "bird \t\tacc: 86.81%\t\tsens: 10.96%\t\tspec: 90.04%\t\tf1: 6.36%\n",
      "cat \t\tacc: 89.70%\t\tsens: 15.14%\t\tspec: 90.02%\t\tf1: 1.26%\n",
      "deer \t\tacc: 89.82%\t\tsens: 6.80%\t\tspec: 89.99%\t\tf1: 0.27%\n",
      "dog \t\tacc: 89.62%\t\tsens: 11.95%\t\tspec: 90.01%\t\tf1: 1.14%\n",
      "frog \t\tacc: 89.52%\t\tsens: 9.80%\t\tspec: 90.00%\t\tf1: 1.10%\n",
      "horse \t\tacc: 89.68%\t\tsens: 7.49%\t\tspec: 89.99%\t\tf1: 0.54%\n",
      "ship \t\tacc: 86.58%\t\tsens: 9.49%\t\tspec: 89.98%\t\tf1: 5.63%\n",
      "truck \t\tacc: 88.80%\t\tsens: 5.63%\t\tspec: 89.94%\t\tf1: 1.34%\n",
      "\n",
      "1\n",
      "plane \t\tacc: 89.98%\t\tsens: 28.57%\t\tspec: 90.01%\t\tf1: 0.32%\n",
      "car \t\tacc: 89.54%\t\tsens: 17.78%\t\tspec: 90.06%\t\tf1: 2.39%\n",
      "bird \t\tacc: 89.91%\t\tsens: 10.34%\t\tspec: 90.00%\t\tf1: 0.24%\n",
      "cat \t\tacc: 89.80%\t\tsens: 18.75%\t\tspec: 90.03%\t\tf1: 1.16%\n",
      "deer \t\tacc: 89.90%\t\tsens: 3.57%\t\tspec: 89.99%\t\tf1: 0.08%\n",
      "dog \t\tacc: 89.83%\t\tsens: 16.26%\t\tspec: 90.02%\t\tf1: 0.78%\n",
      "frog \t\tacc: 89.90%\t\tsens: 3.57%\t\tspec: 89.99%\t\tf1: 0.08%\n",
      "horse \t\tacc: 89.91%\t\tsens: 9.43%\t\tspec: 90.00%\t\tf1: 0.20%\n",
      "ship \t\tacc: 89.94%\t\tsens: 5.56%\t\tspec: 90.00%\t\tf1: 0.08%\n",
      "truck \t\tacc: 89.96%\t\tsens: 0.00%\t\tspec: 90.00%\t\tf1: 0.00%\n",
      "\n",
      "2\n",
      "plane \t\tacc: 89.99%\t\tsens: 35.00%\t\tspec: 90.01%\t\tf1: 0.28%\n",
      "car \t\tacc: 89.48%\t\tsens: 26.95%\t\tspec: 90.19%\t\tf1: 5.46%\n",
      "bird \t\tacc: 89.90%\t\tsens: 10.61%\t\tspec: 90.00%\t\tf1: 0.28%\n",
      "cat \t\tacc: 89.78%\t\tsens: 20.54%\t\tspec: 90.04%\t\tf1: 1.47%\n",
      "deer \t\tacc: 89.80%\t\tsens: 6.19%\t\tspec: 89.99%\t\tf1: 0.27%\n",
      "dog \t\tacc: 89.83%\t\tsens: 19.29%\t\tspec: 90.03%\t\tf1: 1.05%\n",
      "frog \t\tacc: 89.83%\t\tsens: 4.35%\t\tspec: 89.99%\t\tf1: 0.16%\n",
      "horse \t\tacc: 89.92%\t\tsens: 9.80%\t\tspec: 90.00%\t\tf1: 0.20%\n",
      "ship \t\tacc: 89.96%\t\tsens: 9.09%\t\tspec: 90.00%\t\tf1: 0.08%\n",
      "truck \t\tacc: 89.98%\t\tsens: 0.00%\t\tspec: 90.00%\t\tf1: 0.00%\n",
      "\n",
      "3\n",
      "plane \t\tacc: 89.99%\t\tsens: 35.29%\t\tspec: 90.01%\t\tf1: 0.24%\n",
      "car \t\tacc: 89.50%\t\tsens: 32.20%\t\tspec: 90.32%\t\tf1: 7.99%\n",
      "bird \t\tacc: 89.87%\t\tsens: 9.88%\t\tspec: 90.00%\t\tf1: 0.31%\n",
      "cat \t\tacc: 89.78%\t\tsens: 20.94%\t\tspec: 90.04%\t\tf1: 1.54%\n",
      "deer \t\tacc: 89.73%\t\tsens: 9.09%\t\tspec: 90.00%\t\tf1: 0.58%\n",
      "dog \t\tacc: 89.74%\t\tsens: 21.30%\t\tspec: 90.05%\t\tf1: 1.87%\n",
      "frog \t\tacc: 89.77%\t\tsens: 6.87%\t\tspec: 89.99%\t\tf1: 0.35%\n",
      "horse \t\tacc: 89.64%\t\tsens: 17.09%\t\tspec: 90.04%\t\tf1: 1.78%\n",
      "ship \t\tacc: 89.97%\t\tsens: 10.00%\t\tspec: 90.00%\t\tf1: 0.08%\n",
      "truck \t\tacc: 89.99%\t\tsens: 0.00%\t\tspec: 90.00%\t\tf1: 0.00%\n",
      "\n",
      "4\n",
      "plane \t\tacc: 89.99%\t\tsens: 37.50%\t\tspec: 90.01%\t\tf1: 0.24%\n",
      "car \t\tacc: 89.51%\t\tsens: 35.67%\t\tspec: 90.45%\t\tf1: 10.42%\n",
      "bird \t\tacc: 89.84%\t\tsens: 7.61%\t\tspec: 90.00%\t\tf1: 0.27%\n",
      "cat \t\tacc: 89.80%\t\tsens: 23.66%\t\tspec: 90.05%\t\tf1: 1.70%\n",
      "deer \t\tacc: 89.64%\t\tsens: 13.47%\t\tspec: 90.02%\t\tf1: 1.26%\n",
      "dog \t\tacc: 89.64%\t\tsens: 22.75%\t\tspec: 90.09%\t\tf1: 2.85%\n"
     ]
    },
    {
     "ename": "KeyboardInterrupt",
     "evalue": "",
     "output_type": "error",
     "traceback": [
      "\u001b[0;31m---------------------------------------------------------------------------\u001b[0m",
      "\u001b[0;31mKeyboardInterrupt\u001b[0m                         Traceback (most recent call last)",
      "\u001b[0;32m<ipython-input-16-524a36879150>\u001b[0m in \u001b[0;36m<module>\u001b[0;34m\u001b[0m\n\u001b[1;32m     10\u001b[0m     \u001b[0;32mfor\u001b[0m \u001b[0mi\u001b[0m \u001b[0;32min\u001b[0m \u001b[0mrange\u001b[0m\u001b[0;34m(\u001b[0m\u001b[0;36m10\u001b[0m\u001b[0;34m)\u001b[0m\u001b[0;34m:\u001b[0m\u001b[0;34m\u001b[0m\u001b[0;34m\u001b[0m\u001b[0m\n\u001b[1;32m     11\u001b[0m         \u001b[0mnp\u001b[0m\u001b[0;34m.\u001b[0m\u001b[0mrandom\u001b[0m\u001b[0;34m.\u001b[0m\u001b[0mshuffle\u001b[0m\u001b[0;34m(\u001b[0m\u001b[0mtrain_dataset\u001b[0m\u001b[0;34m)\u001b[0m\u001b[0;34m\u001b[0m\u001b[0;34m\u001b[0m\u001b[0m\n\u001b[0;32m---> 12\u001b[0;31m         \u001b[0mmetrics\u001b[0m\u001b[0;34m,\u001b[0m \u001b[0mall_weights\u001b[0m\u001b[0;34m[\u001b[0m\u001b[0mi\u001b[0m\u001b[0;34m]\u001b[0m \u001b[0;34m=\u001b[0m \u001b[0mevaluate\u001b[0m\u001b[0;34m(\u001b[0m\u001b[0mall_weights\u001b[0m\u001b[0;34m[\u001b[0m\u001b[0mi\u001b[0m\u001b[0;34m]\u001b[0m\u001b[0;34m,\u001b[0m \u001b[0mtrain_dataset\u001b[0m\u001b[0;34m,\u001b[0m \u001b[0mcategory\u001b[0m\u001b[0;34m=\u001b[0m\u001b[0;34m(\u001b[0m\u001b[0mi\u001b[0m\u001b[0;34m+\u001b[0m\u001b[0;36m1\u001b[0m\u001b[0;34m)\u001b[0m\u001b[0;34m/\u001b[0m\u001b[0;36m10\u001b[0m\u001b[0;34m,\u001b[0m \u001b[0mtraining\u001b[0m\u001b[0;34m=\u001b[0m\u001b[0;32mTrue\u001b[0m\u001b[0;34m)\u001b[0m\u001b[0;34m\u001b[0m\u001b[0;34m\u001b[0m\u001b[0m\n\u001b[0m\u001b[1;32m     13\u001b[0m         \u001b[0mprint\u001b[0m\u001b[0;34m(\u001b[0m\u001b[0mclasses\u001b[0m\u001b[0;34m[\u001b[0m\u001b[0mi\u001b[0m\u001b[0;34m]\u001b[0m \u001b[0;34m+\u001b[0m \u001b[0mprint_metrics\u001b[0m\u001b[0;34m(\u001b[0m\u001b[0mmetrics\u001b[0m\u001b[0;34m)\u001b[0m\u001b[0;34m)\u001b[0m\u001b[0;34m\u001b[0m\u001b[0;34m\u001b[0m\u001b[0m\n\u001b[1;32m     14\u001b[0m \u001b[0;34m\u001b[0m\u001b[0m\n",
      "\u001b[0;32m<ipython-input-10-50fca90bb229>\u001b[0m in \u001b[0;36mevaluate\u001b[0;34m(weights, dataset, category, training)\u001b[0m\n\u001b[1;32m     18\u001b[0m             \u001b[0mloss\u001b[0m \u001b[0;34m=\u001b[0m \u001b[0mlabel\u001b[0m \u001b[0;34m-\u001b[0m \u001b[0my\u001b[0m\u001b[0;34m\u001b[0m\u001b[0;34m\u001b[0m\u001b[0m\n\u001b[1;32m     19\u001b[0m             \u001b[0mdelta\u001b[0m \u001b[0;34m=\u001b[0m \u001b[0mloss\u001b[0m \u001b[0;34m*\u001b[0m \u001b[0mneta\u001b[0m \u001b[0;34m*\u001b[0m \u001b[0mimg\u001b[0m \u001b[0;34m*\u001b[0m \u001b[0my\u001b[0m \u001b[0;34m*\u001b[0m \u001b[0;34m(\u001b[0m\u001b[0;36m1\u001b[0m \u001b[0;34m-\u001b[0m \u001b[0my\u001b[0m\u001b[0;34m)\u001b[0m\u001b[0;34m\u001b[0m\u001b[0;34m\u001b[0m\u001b[0m\n\u001b[0;32m---> 20\u001b[0;31m             \u001b[0mweights\u001b[0m \u001b[0;34m=\u001b[0m \u001b[0mweights\u001b[0m \u001b[0;34m+\u001b[0m \u001b[0mdelta\u001b[0m\u001b[0;34m\u001b[0m\u001b[0;34m\u001b[0m\u001b[0m\n\u001b[0m\u001b[1;32m     21\u001b[0m \u001b[0;34m\u001b[0m\u001b[0m\n\u001b[1;32m     22\u001b[0m         \u001b[0my\u001b[0m \u001b[0;34m=\u001b[0m \u001b[0mround\u001b[0m\u001b[0;34m(\u001b[0m\u001b[0my\u001b[0m\u001b[0;34m)\u001b[0m\u001b[0;34m\u001b[0m\u001b[0;34m\u001b[0m\u001b[0m\n",
      "\u001b[0;31mKeyboardInterrupt\u001b[0m: "
     ]
    }
   ],
   "source": [
    "all_weights = (np.random.rand(1,10,size) - 0.5)[0]\n",
    "bias = (np.random.rand(1) - 0.25) \n",
    "all_weights = list(map(lambda weights: np.append(weights, bias), all_weights)) \n",
    "train_dataset = add_bias(linear_dataset_train)\n",
    "neta = 0.001\n",
    "    \n",
    "accuracies = np.zeros((10,))\n",
    "for epoch in range(100):\n",
    "    print(epoch)\n",
    "    for i in range(10):\n",
    "        np.random.shuffle(train_dataset)\n",
    "        metrics, all_weights[i] = evaluate(all_weights[i], train_dataset, category=(i+1)/10, training=True)\n",
    "        print(classes[i] + print_metrics(metrics))\n",
    "        \n",
    "    print('')"
   ]
  },
  {
   "cell_type": "code",
   "execution_count": null,
   "metadata": {},
   "outputs": [],
   "source": [
    "\n"
   ]
  },
  {
   "cell_type": "code",
   "execution_count": null,
   "metadata": {},
   "outputs": [],
   "source": [
    "\n",
    "\n"
   ]
  }
 ],
 "metadata": {
  "kernelspec": {
   "display_name": "Python 3",
   "language": "python",
   "name": "python3"
  },
  "language_info": {
   "codemirror_mode": {
    "name": "ipython",
    "version": 3
   },
   "file_extension": ".py",
   "mimetype": "text/x-python",
   "name": "python",
   "nbconvert_exporter": "python",
   "pygments_lexer": "ipython3",
   "version": "3.7.1"
  }
 },
 "nbformat": 4,
 "nbformat_minor": 2
}
